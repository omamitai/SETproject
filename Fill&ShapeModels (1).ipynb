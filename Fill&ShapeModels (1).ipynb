{
  "cells": [
    {
      "cell_type": "markdown",
      "metadata": {
        "id": "pRP5BM22qnXq"
      },
      "source": [
        "#Imports\n"
      ]
    },
    {
      "cell_type": "code",
      "source": [
        "# Mount Google Drive to access files\n",
        "from google.colab import drive\n",
        "drive.mount('/content/drive')\n"
      ],
      "metadata": {
        "id": "Kt0fPYPLfhQf"
      },
      "execution_count": null,
      "outputs": []
    },
    {
      "cell_type": "code",
      "execution_count": null,
      "metadata": {
        "colab": {
          "base_uri": "https://localhost:8080/"
        },
        "id": "EkciXL5uqmcT",
        "outputId": "063f91ec-82ea-40e3-ebed-2ac5d57e2052"
      },
      "outputs": [
        {
          "output_type": "stream",
          "name": "stdout",
          "text": [
            "Mounted at /content/drive\n"
          ]
        }
      ],
      "source": [
        "\n",
        "# System and file operations\n",
        "import os\n",
        "import json\n",
        "\n",
        "# Numerical and data handling\n",
        "import numpy as np\n",
        "\n",
        "# Visualization\n",
        "import matplotlib.pyplot as plt\n",
        "import seaborn as sns\n",
        "from PIL import Image\n",
        "\n",
        "# Machine learning metrics\n",
        "from sklearn.metrics import confusion_matrix\n",
        "\n",
        "# TensorFlow and Keras for deep learning\n",
        "from tensorflow.keras.models import Sequential, Model, load_model\n",
        "from tensorflow.keras.layers import (\n",
        "    Conv2D, MaxPooling2D, Flatten, Dense, Dropout,\n",
        "    BatchNormalization, GlobalAveragePooling2D\n",
        ")\n",
        "from tensorflow.keras.optimizers import Adam\n",
        "from tensorflow.keras.preprocessing.image import ImageDataGenerator\n",
        "from tensorflow.keras.callbacks import EarlyStopping, ModelCheckpoint, ReduceLROnPlateau\n",
        "from tensorflow.keras.applications import MobileNetV2\n"
      ]
    },
    {
      "cell_type": "markdown",
      "metadata": {
        "id": "7TGIvEQRqs2t"
      },
      "source": [
        "#Data"
      ]
    },
    {
      "cell_type": "code",
      "execution_count": null,
      "metadata": {
        "id": "syuN9iWh58A3"
      },
      "outputs": [],
      "source": [
        "def load_dataset(char_dir, img_size=(224, 224), batch_size=32):\n",
        "    \"\"\"\n",
        "    Load dataset from the specified directory and create data generators for training, validation, and testing.\n",
        "\n",
        "    Parameters:\n",
        "    char_dir (str): Directory containing the dataset.\n",
        "    img_size (tuple): Target size for resizing images.\n",
        "    batch_size (int): Number of samples per batch.\n",
        "\n",
        "    Returns:\n",
        "    tuple: Training, validation, and testing data generators.\n",
        "    \"\"\"\n",
        "    datagen = ImageDataGenerator(\n",
        "        rescale=1./255,\n",
        "        validation_split=0.2\n",
        "    )\n",
        "\n",
        "    train_generator = datagen.flow_from_directory(\n",
        "        char_dir,\n",
        "        target_size=img_size,\n",
        "        batch_size=batch_size,\n",
        "        class_mode='categorical',\n",
        "        subset='training',\n",
        "        shuffle=True\n",
        "    )\n",
        "\n",
        "    val_generator = datagen.flow_from_directory(\n",
        "        char_dir,\n",
        "        target_size=img_size,\n",
        "        batch_size=batch_size,\n",
        "        class_mode='categorical',\n",
        "        subset='validation',\n",
        "        shuffle=True\n",
        "    )\n",
        "\n",
        "    test_datagen = ImageDataGenerator(rescale=1./255)\n",
        "\n",
        "    test_generator = test_datagen.flow_from_directory(\n",
        "        char_dir,\n",
        "        target_size=img_size,\n",
        "        batch_size=batch_size,\n",
        "        class_mode='categorical',\n",
        "        shuffle=False\n",
        "    )\n",
        "\n",
        "    return train_generator, val_generator, test_generator\n"
      ]
    },
    {
      "cell_type": "code",
      "execution_count": null,
      "metadata": {
        "colab": {
          "base_uri": "https://localhost:8080/"
        },
        "id": "cl8n8xoeqt_C",
        "outputId": "039d7c15-36c1-4d2b-b918-3697673e4d81"
      },
      "outputs": [
        {
          "output_type": "stream",
          "name": "stdout",
          "text": [
            "Found 1105 images belonging to 3 classes.\n",
            "Found 275 images belonging to 3 classes.\n",
            "Found 1380 images belonging to 3 classes.\n",
            "Found 1105 images belonging to 3 classes.\n",
            "Found 275 images belonging to 3 classes.\n",
            "Found 1380 images belonging to 3 classes.\n",
            "Found 1091 images belonging to 3 classes.\n",
            "Found 271 images belonging to 3 classes.\n",
            "Found 1362 images belonging to 3 classes.\n"
          ]
        }
      ],
      "source": [
        "# Load Data\n",
        "\n",
        "main_dir = '/content/drive/MyDrive/IndividualShapeDataset1505'\n",
        "\n",
        "# Load the Fill dataset\n",
        "fill_char_dir = os.path.join(main_dir, 'Fill')\n",
        "fill_train_generator, fill_val_generator, fill_test_generator = load_dataset(fill_char_dir)\n",
        "\n",
        "# Load the Shape dataset\n",
        "shape_char_dir = os.path.join(main_dir, 'Shape')\n",
        "shape_train_generator, shape_val_generator, shape_test_generator = load_dataset(shape_char_dir)\n",
        "\n"
      ]
    },
    {
      "cell_type": "markdown",
      "metadata": {
        "id": "sWpEI6Rgrx39"
      },
      "source": [
        "#Saving"
      ]
    },
    {
      "cell_type": "code",
      "execution_count": null,
      "metadata": {
        "id": "V7gGa3yyq_kf"
      },
      "outputs": [],
      "source": [
        "# Save functions\n",
        "\n",
        "def save_history(history, model_name):\n",
        "    \"\"\"\n",
        "    Save the training history to a JSON file.\n",
        "\n",
        "    Parameters:\n",
        "    history (History): Training history.\n",
        "    model_name (str): Name of the model.\n",
        "    \"\"\"\n",
        "    history_dict = history.history\n",
        "    for key in history_dict:\n",
        "        history_dict[key] = [float(x) for x in history_dict[key]]\n",
        "    history_path = f'/content/drive/MyDrive/Models/Characteristics/17052024/{model_name}_history.json'\n",
        "    with open(history_path, 'w') as f:\n",
        "        json.dump(history_dict, f)\n",
        "    print(f\"History saved at {history_path}\")\n",
        "\n",
        "def save_model_info(model, model_name, test_acc):\n",
        "    \"\"\"\n",
        "    Save model information to a JSON file.\n",
        "\n",
        "    Parameters:\n",
        "    model (Model): Trained model.\n",
        "    model_name (str): Name of the model.\n",
        "    test_acc (float): Test accuracy of the model.\n",
        "    \"\"\"\n",
        "    model_info = {\n",
        "        'model_name': model_name,\n",
        "        'test_accuracy': test_acc,\n",
        "        'input_shape': model.input_shape[1:],\n",
        "        'num_layers': len(model.layers),\n",
        "        'num_classes': model.output_shape[-1]\n",
        "    }\n",
        "    model_info_path = f'/content/drive/MyDrive/Models/Characteristics/17052024/{model_name}_info.json'\n",
        "    with open(model_info_path, 'w') as f:\n",
        "        json.dump(model_info, f)\n",
        "    print(f\"Model info saved at {model_info_path}\")\n",
        "\n",
        "def save_model(model, model_name, history, fine_tune_history, test_acc):\n",
        "    \"\"\"\n",
        "    Save the trained model and its related information.\n",
        "\n",
        "    Parameters:\n",
        "    model (Model): Trained model.\n",
        "    model_name (str): Name of the model.\n",
        "    history (History): Training history.\n",
        "    fine_tune_history (History): Fine-tuning history.\n",
        "    test_acc (float): Test accuracy of the model.\n",
        "    \"\"\"\n",
        "    model_path = f'/content/drive/MyDrive/Models/Characteristics/17052024/{model_name}_model.h5'\n",
        "    model.save(model_path)\n",
        "    print(f\"Model saved at {model_path}\")\n",
        "    save_history(history, model_name)\n",
        "    save_history(fine_tune_history, f'{model_name}_fine_tuned')\n",
        "    save_model_info(model, model_name, test_acc)\n"
      ]
    },
    {
      "cell_type": "markdown",
      "metadata": {
        "id": "g_aCckdxq4lA"
      },
      "source": [
        "#Model"
      ]
    },
    {
      "cell_type": "code",
      "execution_count": null,
      "metadata": {
        "id": "aembcNGlq59U"
      },
      "outputs": [],
      "source": [
        "# Model creation\n",
        "def create_model(base_model, num_classes, input_shape=(224, 224, 3)):\n",
        "    \"\"\"\n",
        "    Create a new model based on a pre-trained base model.\n",
        "\n",
        "    Parameters:\n",
        "    base_model (Model): Pre-trained base model.\n",
        "    num_classes (int): Number of output classes.\n",
        "    input_shape (tuple): Input shape of the model.\n",
        "\n",
        "    Returns:\n",
        "    Model: Compiled model.\n",
        "    \"\"\"\n",
        "    base_model = base_model(weights='imagenet', include_top=False, input_shape=input_shape)\n",
        "    x = base_model.output\n",
        "    x = GlobalAveragePooling2D()(x)\n",
        "    x = Dense(1024, activation='relu')(x)\n",
        "    x = Dropout(0.5)(x)\n",
        "    x = Dense(512, activation='relu')(x)\n",
        "    x = Dropout(0.5)(x)\n",
        "    x = Dense(256, activation='relu')(x)\n",
        "    x = Dropout(0.5)(x)\n",
        "    predictions = Dense(num_classes, activation='softmax')(x)\n",
        "    model = Model(inputs=base_model.input, outputs=predictions)\n",
        "    for layer in base_model.layers:\n",
        "        layer.trainable = False\n",
        "    return model\n",
        "\n",
        "def train_model(model, train_generator, val_generator, test_generator, epochs, batch_size, model_name):\n",
        "    \"\"\"\n",
        "    Train the model with the provided data generators and save the model.\n",
        "\n",
        "    Parameters:\n",
        "    model (Model): Model to be trained.\n",
        "    train_generator (DirectoryIterator): Training data generator.\n",
        "    val_generator (DirectoryIterator): Validation data generator.\n",
        "    test_generator (DirectoryIterator): Testing data generator.\n",
        "    epochs (int): Number of epochs to train the model.\n",
        "    batch_size (int): Batch size for training.\n",
        "    model_name (str): Name of the model.\n",
        "\n",
        "    Returns:\n",
        "    Model: Trained model.\n",
        "    History: Training history.\n",
        "    History: Fine-tuning history.\n",
        "    float: Test accuracy.\n",
        "    \"\"\"\n",
        "    model.compile(optimizer=Adam(learning_rate=0.001), loss='categorical_crossentropy', metrics=['accuracy'])\n",
        "    early_stopping = EarlyStopping(monitor='val_loss', patience=5, restore_best_weights=True)\n",
        "    model_checkpoint = ModelCheckpoint(f'best_{model_name}_model.keras', save_best_only=True, monitor='val_loss')\n",
        "    reduce_lr = ReduceLROnPlateau(monitor='val_loss', factor=0.1, patience=3, min_lr=1e-6)\n",
        "\n",
        "    history = model.fit(\n",
        "        train_generator,\n",
        "        steps_per_epoch=train_generator.samples // batch_size,\n",
        "        validation_data=val_generator,\n",
        "        validation_steps=val_generator.samples // batch_size,\n",
        "        epochs=epochs,\n",
        "        callbacks=[early_stopping, model_checkpoint, reduce_lr]\n",
        "    )\n",
        "\n",
        "    val_loss, val_acc = model.evaluate(val_generator, steps=val_generator.samples // batch_size)\n",
        "    print(f\"Validation accuracy for {model_name}: {val_acc:.4f}\")\n",
        "\n",
        "    for layer in model.layers[-5:]:\n",
        "        layer.trainable = True\n",
        "\n",
        "    model.compile(optimizer=Adam(learning_rate=0.00001), loss='categorical_crossentropy', metrics=['accuracy'])\n",
        "\n",
        "    fine_tune_history = model.fit(\n",
        "        train_generator,\n",
        "        steps_per_epoch=train_generator.samples // batch_size,\n",
        "        validation_data=val_generator,\n",
        "        validation_steps=val_generator.samples // batch_size,\n",
        "        epochs=10,  # Fine-tuning epochs\n",
        "        callbacks=[early_stopping, model_checkpoint, reduce_lr]\n",
        "    )\n",
        "\n",
        "    test_loss, test_acc = model.evaluate(test_generator, steps=test_generator.samples // batch_size)\n",
        "    print(f\"Test accuracy for {model_name}: {test_acc:.4f}\")\n",
        "\n",
        "    save_model(model, model_name, history, fine_tune_history, test_acc)\n",
        "\n",
        "    return model, history, fine_tune_history, test_acc\n"
      ]
    },
    {
      "cell_type": "markdown",
      "metadata": {
        "id": "2IBBI6K9r-Vt"
      },
      "source": [
        "#Training"
      ]
    },
    {
      "cell_type": "code",
      "execution_count": null,
      "metadata": {
        "id": "y_rZs1ucsAKz"
      },
      "outputs": [],
      "source": [
        "# Set the number of epochs, batch size and input Dimensions\n",
        "epochs = 50\n",
        "batch_size = 32\n",
        "input_shape = (224, 224, 3)"
      ]
    },
    {
      "cell_type": "code",
      "execution_count": null,
      "metadata": {
        "colab": {
          "base_uri": "https://localhost:8080/"
        },
        "id": "6qx6kvoTscG4",
        "outputId": "a811336f-c15d-484c-a4c5-b9cbe639eb23"
      },
      "outputs": [
        {
          "output_type": "stream",
          "name": "stdout",
          "text": [
            "Downloading data from https://storage.googleapis.com/tensorflow/keras-applications/mobilenet_v2/mobilenet_v2_weights_tf_dim_ordering_tf_kernels_1.0_224_no_top.h5\n",
            "9406464/9406464 [==============================] - 0s 0us/step\n",
            "Epoch 1/50\n",
            "34/34 [==============================] - 81s 2s/step - loss: 0.4227 - accuracy: 0.8444 - val_loss: 0.0957 - val_accuracy: 0.9844 - lr: 0.0010\n",
            "Epoch 2/50\n",
            "34/34 [==============================] - 79s 2s/step - loss: 0.1400 - accuracy: 0.9646 - val_loss: 0.0531 - val_accuracy: 0.9844 - lr: 0.0010\n",
            "Epoch 3/50\n",
            "34/34 [==============================] - 77s 2s/step - loss: 0.0977 - accuracy: 0.9711 - val_loss: 0.0872 - val_accuracy: 0.9844 - lr: 0.0010\n",
            "Epoch 4/50\n",
            "34/34 [==============================] - 71s 2s/step - loss: 0.0868 - accuracy: 0.9795 - val_loss: 0.0637 - val_accuracy: 0.9844 - lr: 0.0010\n",
            "Epoch 5/50\n",
            "34/34 [==============================] - 78s 2s/step - loss: 0.0549 - accuracy: 0.9795 - val_loss: 0.1050 - val_accuracy: 0.9844 - lr: 0.0010\n",
            "Epoch 6/50\n",
            "34/34 [==============================] - 79s 2s/step - loss: 0.0518 - accuracy: 0.9879 - val_loss: 0.0686 - val_accuracy: 0.9844 - lr: 1.0000e-04\n",
            "Epoch 7/50\n",
            "34/34 [==============================] - 78s 2s/step - loss: 0.0294 - accuracy: 0.9907 - val_loss: 0.0661 - val_accuracy: 0.9844 - lr: 1.0000e-04\n",
            "8/8 [==============================] - 15s 2s/step - loss: 0.0637 - accuracy: 0.9805\n",
            "Validation accuracy for fill_model: 0.9805\n",
            "Epoch 1/10\n",
            "34/34 [==============================] - 85s 2s/step - loss: 0.0758 - accuracy: 0.9807 - val_loss: 0.0518 - val_accuracy: 0.9844 - lr: 1.0000e-05\n",
            "Epoch 2/10\n",
            "34/34 [==============================] - 78s 2s/step - loss: 0.0904 - accuracy: 0.9804 - val_loss: 0.0464 - val_accuracy: 0.9844 - lr: 1.0000e-05\n",
            "Epoch 3/10\n",
            "34/34 [==============================] - 76s 2s/step - loss: 0.0765 - accuracy: 0.9776 - val_loss: 0.0427 - val_accuracy: 0.9844 - lr: 1.0000e-05\n",
            "Epoch 4/10\n",
            "34/34 [==============================] - 77s 2s/step - loss: 0.0641 - accuracy: 0.9823 - val_loss: 0.0428 - val_accuracy: 0.9844 - lr: 1.0000e-05\n",
            "Epoch 5/10\n",
            "34/34 [==============================] - 86s 2s/step - loss: 0.0542 - accuracy: 0.9860 - val_loss: 0.0406 - val_accuracy: 0.9805 - lr: 1.0000e-05\n",
            "Epoch 6/10\n",
            "34/34 [==============================] - 72s 2s/step - loss: 0.0832 - accuracy: 0.9767 - val_loss: 0.0417 - val_accuracy: 0.9805 - lr: 1.0000e-05\n",
            "Epoch 7/10\n",
            "34/34 [==============================] - 74s 2s/step - loss: 0.0841 - accuracy: 0.9776 - val_loss: 0.0426 - val_accuracy: 0.9805 - lr: 1.0000e-05\n",
            "Epoch 8/10\n",
            "34/34 [==============================] - 78s 2s/step - loss: 0.0746 - accuracy: 0.9823 - val_loss: 0.0453 - val_accuracy: 0.9844 - lr: 1.0000e-05\n",
            "Epoch 9/10\n",
            "34/34 [==============================] - 79s 2s/step - loss: 0.0775 - accuracy: 0.9804 - val_loss: 0.0452 - val_accuracy: 0.9844 - lr: 1.0000e-06\n",
            "Epoch 10/10\n",
            "34/34 [==============================] - 78s 2s/step - loss: 0.0797 - accuracy: 0.9767 - val_loss: 0.0426 - val_accuracy: 0.9844 - lr: 1.0000e-06\n",
            "43/43 [==============================] - 76s 2s/step - loss: 0.0315 - accuracy: 0.9884\n",
            "Test accuracy for fill_model: 0.9884\n"
          ]
        },
        {
          "output_type": "stream",
          "name": "stderr",
          "text": [
            "/usr/local/lib/python3.10/dist-packages/keras/src/engine/training.py:3103: UserWarning: You are saving your model as an HDF5 file via `model.save()`. This file format is considered legacy. We recommend using instead the native Keras format, e.g. `model.save('my_model.keras')`.\n",
            "  saving_api.save_model(\n"
          ]
        },
        {
          "output_type": "stream",
          "name": "stdout",
          "text": [
            "Model saved at /content/drive/MyDrive/Models/Characteristics/17052024/fill_model_model.h5\n",
            "History saved at /content/drive/MyDrive/Models/Characteristics/17052024/fill_model_history.json\n",
            "History saved at /content/drive/MyDrive/Models/Characteristics/17052024/fill_model_fine_tuned_history.json\n",
            "Model info saved at /content/drive/MyDrive/Models/Characteristics/17052024/fill_model_info.json\n",
            "Model saved at /content/drive/MyDrive/Models/Characteristics/17052024/fill_model_model.h5\n",
            "History saved at /content/drive/MyDrive/Models/Characteristics/17052024/fill_model_history.json\n",
            "History saved at /content/drive/MyDrive/Models/Characteristics/17052024/fill_model_fine_tuned_history.json\n",
            "Model info saved at /content/drive/MyDrive/Models/Characteristics/17052024/fill_model_info.json\n"
          ]
        }
      ],
      "source": [
        "# Train and save the Fill model\n",
        "fill_num_classes = len(fill_train_generator.class_indices)\n",
        "fill_model = create_model(MobileNetV2, fill_num_classes, input_shape)\n",
        "fill_model, fill_history, fill_fine_tune_history, fill_test_acc = train_model(\n",
        "    fill_model,\n",
        "    fill_train_generator,\n",
        "    fill_val_generator,\n",
        "    fill_test_generator,\n",
        "    epochs,\n",
        "    batch_size,\n",
        "    'fill_model'\n",
        ")\n",
        "save_model(fill_model, 'fill_model', fill_history, fill_fine_tune_history, fill_test_acc\n"
      ]
    },
    {
      "cell_type": "code",
      "execution_count": null,
      "metadata": {
        "colab": {
          "base_uri": "https://localhost:8080/"
        },
        "id": "ZF4bvSrGsfzk",
        "outputId": "44652a4a-255f-4c5d-888f-4c3c8a47fe04"
      },
      "outputs": [
        {
          "output_type": "stream",
          "name": "stdout",
          "text": [
            "Epoch 1/50\n",
            "34/34 [==============================] - 379s 11s/step - loss: 0.3448 - accuracy: 0.8714 - val_loss: 0.0220 - val_accuracy: 0.9961 - lr: 0.0010\n",
            "Epoch 2/50\n",
            "34/34 [==============================] - 79s 2s/step - loss: 0.0692 - accuracy: 0.9832 - val_loss: 0.0055 - val_accuracy: 0.9961 - lr: 0.0010\n",
            "Epoch 3/50\n",
            "34/34 [==============================] - 76s 2s/step - loss: 0.0213 - accuracy: 0.9925 - val_loss: 0.0719 - val_accuracy: 0.9844 - lr: 0.0010\n",
            "Epoch 4/50\n",
            "34/34 [==============================] - 78s 2s/step - loss: 0.0255 - accuracy: 0.9944 - val_loss: 4.1445e-04 - val_accuracy: 1.0000 - lr: 0.0010\n",
            "Epoch 5/50\n",
            "34/34 [==============================] - 71s 2s/step - loss: 0.0194 - accuracy: 0.9944 - val_loss: 0.0748 - val_accuracy: 0.9609 - lr: 0.0010\n",
            "Epoch 6/50\n",
            "34/34 [==============================] - 78s 2s/step - loss: 0.0050 - accuracy: 0.9991 - val_loss: 0.0011 - val_accuracy: 1.0000 - lr: 0.0010\n",
            "Epoch 7/50\n",
            "34/34 [==============================] - 72s 2s/step - loss: 0.0017 - accuracy: 0.9991 - val_loss: 0.0022 - val_accuracy: 1.0000 - lr: 0.0010\n",
            "Epoch 8/50\n",
            "34/34 [==============================] - 80s 2s/step - loss: 8.6696e-04 - accuracy: 1.0000 - val_loss: 0.0028 - val_accuracy: 1.0000 - lr: 1.0000e-04\n",
            "Epoch 9/50\n",
            "34/34 [==============================] - 78s 2s/step - loss: 7.6440e-05 - accuracy: 1.0000 - val_loss: 0.0019 - val_accuracy: 1.0000 - lr: 1.0000e-04\n",
            "8/8 [==============================] - 15s 2s/step - loss: 4.1612e-04 - accuracy: 1.0000\n",
            "Validation accuracy for shape_model: 1.0000\n",
            "Epoch 1/10\n",
            "34/34 [==============================] - 82s 2s/step - loss: 0.0057 - accuracy: 0.9981 - val_loss: 3.0268e-04 - val_accuracy: 1.0000 - lr: 1.0000e-05\n",
            "Epoch 2/10\n",
            "34/34 [==============================] - 98s 3s/step - loss: 6.8087e-04 - accuracy: 1.0000 - val_loss: 3.1035e-04 - val_accuracy: 1.0000 - lr: 1.0000e-05\n",
            "Epoch 3/10\n",
            "34/34 [==============================] - 77s 2s/step - loss: 0.0060 - accuracy: 0.9991 - val_loss: 3.1194e-04 - val_accuracy: 1.0000 - lr: 1.0000e-05\n",
            "Epoch 4/10\n",
            "34/34 [==============================] - 79s 2s/step - loss: 0.0105 - accuracy: 0.9981 - val_loss: 3.2522e-04 - val_accuracy: 1.0000 - lr: 1.0000e-05\n",
            "Epoch 5/10\n",
            "34/34 [==============================] - 79s 2s/step - loss: 0.0075 - accuracy: 0.9981 - val_loss: 3.3821e-04 - val_accuracy: 1.0000 - lr: 1.0000e-06\n",
            "Epoch 6/10\n",
            "34/34 [==============================] - 78s 2s/step - loss: 0.0029 - accuracy: 0.9981 - val_loss: 3.4492e-04 - val_accuracy: 1.0000 - lr: 1.0000e-06\n",
            "43/43 [==============================] - 74s 2s/step - loss: 2.5009e-04 - accuracy: 1.0000\n",
            "Test accuracy for shape_model: 1.0000\n",
            "Model saved at /content/drive/MyDrive/Models/Characteristics/17052024/shape_model_model.h5\n",
            "History saved at /content/drive/MyDrive/Models/Characteristics/17052024/shape_model_history.json\n",
            "History saved at /content/drive/MyDrive/Models/Characteristics/17052024/shape_model_fine_tuned_history.json\n",
            "Model info saved at /content/drive/MyDrive/Models/Characteristics/17052024/shape_model_info.json\n",
            "Model saved at /content/drive/MyDrive/Models/Characteristics/17052024/shape_model_model.h5\n",
            "History saved at /content/drive/MyDrive/Models/Characteristics/17052024/shape_model_history.json\n",
            "History saved at /content/drive/MyDrive/Models/Characteristics/17052024/shape_model_fine_tuned_history.json\n",
            "Model info saved at /content/drive/MyDrive/Models/Characteristics/17052024/shape_model_info.json\n"
          ]
        }
      ],
      "source": [
        "# Train and save the Shape model\n",
        "shape_num_classes = len(shape_train_generator.class_indices)\n",
        "shape_model = create_model(MobileNetV2, shape_num_classes, input_shape)\n",
        "shape_model, shape_history, shape_fine_tune_history, shape_test_acc = train_model(\n",
        "    shape_model,\n",
        "    shape_train_generator,\n",
        "    shape_val_generator,\n",
        "    shape_test_generator,\n",
        "    epochs,\n",
        "    batch_size,\n",
        "    'shape_model'\n",
        ")\n",
        "save_model(shape_model, 'shape_model', shape_history, shape_fine_tune_history, shape_test_acc)\n"
      ]
    }
  ],
  "metadata": {
    "colab": {
      "provenance": [],
      "collapsed_sections": [
        "7TGIvEQRqs2t",
        "sWpEI6Rgrx39",
        "g_aCckdxq4lA",
        "2IBBI6K9r-Vt"
      ]
    },
    "kernelspec": {
      "display_name": "Python 3",
      "name": "python3"
    },
    "language_info": {
      "name": "python"
    }
  },
  "nbformat": 4,
  "nbformat_minor": 0
}