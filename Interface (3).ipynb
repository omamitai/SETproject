{
  "cells": [
    {
      "cell_type": "markdown",
      "metadata": {
        "id": "93RMa6RSZse_"
      },
      "source": [
        "#Imports"
      ]
    },
    {
      "cell_type": "code",
      "execution_count": null,
      "metadata": {
        "colab": {
          "base_uri": "https://localhost:8080/"
        },
        "id": "xC--bNkbYGpP",
        "outputId": "15335f32-93a6-48b9-80a3-82e6b9b1755c"
      },
      "outputs": [
        {
          "output_type": "stream",
          "name": "stdout",
          "text": [
            "Drive already mounted at /content/drive; to attempt to forcibly remount, call drive.mount(\"/content/drive\", force_remount=True).\n"
          ]
        }
      ],
      "source": [
        "# Mount Google Drive\n",
        "from google.colab import drive\n",
        "drive.mount('/content/drive')\n",
        "\n",
        "# Colab specific tools\n",
        "from google.colab.patches import cv2_imshow\n"
      ]
    },
    {
      "cell_type": "code",
      "execution_count": null,
      "metadata": {
        "colab": {
          "base_uri": "https://localhost:8080/"
        },
        "id": "rgPgzC3eZOvb",
        "outputId": "fb8b50e1-fd93-4ca5-d912-2ca578e4d975"
      },
      "outputs": [
        {
          "output_type": "stream",
          "name": "stdout",
          "text": [
            "Requirement already satisfied: gradio in /usr/local/lib/python3.10/dist-packages (4.31.4)\n",
            "Requirement already satisfied: aiofiles<24.0,>=22.0 in /usr/local/lib/python3.10/dist-packages (from gradio) (23.2.1)\n",
            "Requirement already satisfied: altair<6.0,>=4.2.0 in /usr/local/lib/python3.10/dist-packages (from gradio) (4.2.2)\n",
            "Requirement already satisfied: fastapi in /usr/local/lib/python3.10/dist-packages (from gradio) (0.111.0)\n",
            "Requirement already satisfied: ffmpy in /usr/local/lib/python3.10/dist-packages (from gradio) (0.3.2)\n",
            "Requirement already satisfied: gradio-client==0.16.4 in /usr/local/lib/python3.10/dist-packages (from gradio) (0.16.4)\n",
            "Requirement already satisfied: httpx>=0.24.1 in /usr/local/lib/python3.10/dist-packages (from gradio) (0.27.0)\n",
            "Requirement already satisfied: huggingface-hub>=0.19.3 in /usr/local/lib/python3.10/dist-packages (from gradio) (0.20.3)\n",
            "Requirement already satisfied: importlib-resources<7.0,>=1.3 in /usr/local/lib/python3.10/dist-packages (from gradio) (6.4.0)\n",
            "Requirement already satisfied: jinja2<4.0 in /usr/local/lib/python3.10/dist-packages (from gradio) (3.1.4)\n",
            "Requirement already satisfied: markupsafe~=2.0 in /usr/local/lib/python3.10/dist-packages (from gradio) (2.1.5)\n",
            "Requirement already satisfied: matplotlib~=3.0 in /usr/local/lib/python3.10/dist-packages (from gradio) (3.7.1)\n",
            "Requirement already satisfied: numpy~=1.0 in /usr/local/lib/python3.10/dist-packages (from gradio) (1.25.2)\n",
            "Requirement already satisfied: orjson~=3.0 in /usr/local/lib/python3.10/dist-packages (from gradio) (3.10.3)\n",
            "Requirement already satisfied: packaging in /usr/local/lib/python3.10/dist-packages (from gradio) (24.0)\n",
            "Requirement already satisfied: pandas<3.0,>=1.0 in /usr/local/lib/python3.10/dist-packages (from gradio) (2.0.3)\n",
            "Requirement already satisfied: pillow<11.0,>=8.0 in /usr/local/lib/python3.10/dist-packages (from gradio) (10.3.0)\n",
            "Requirement already satisfied: pydantic>=2.0 in /usr/local/lib/python3.10/dist-packages (from gradio) (2.7.1)\n",
            "Requirement already satisfied: pydub in /usr/local/lib/python3.10/dist-packages (from gradio) (0.25.1)\n",
            "Requirement already satisfied: python-multipart>=0.0.9 in /usr/local/lib/python3.10/dist-packages (from gradio) (0.0.9)\n",
            "Requirement already satisfied: pyyaml<7.0,>=5.0 in /usr/local/lib/python3.10/dist-packages (from gradio) (6.0.1)\n",
            "Requirement already satisfied: ruff>=0.2.2 in /usr/local/lib/python3.10/dist-packages (from gradio) (0.4.4)\n",
            "Requirement already satisfied: semantic-version~=2.0 in /usr/local/lib/python3.10/dist-packages (from gradio) (2.10.0)\n",
            "Requirement already satisfied: tomlkit==0.12.0 in /usr/local/lib/python3.10/dist-packages (from gradio) (0.12.0)\n",
            "Requirement already satisfied: typer<1.0,>=0.12 in /usr/local/lib/python3.10/dist-packages (from gradio) (0.12.3)\n",
            "Requirement already satisfied: typing-extensions~=4.0 in /usr/local/lib/python3.10/dist-packages (from gradio) (4.11.0)\n",
            "Requirement already satisfied: urllib3~=2.0 in /usr/local/lib/python3.10/dist-packages (from gradio) (2.0.7)\n",
            "Requirement already satisfied: uvicorn>=0.14.0 in /usr/local/lib/python3.10/dist-packages (from gradio) (0.29.0)\n",
            "Requirement already satisfied: fsspec in /usr/local/lib/python3.10/dist-packages (from gradio-client==0.16.4->gradio) (2024.3.1)\n",
            "Requirement already satisfied: websockets<12.0,>=10.0 in /usr/local/lib/python3.10/dist-packages (from gradio-client==0.16.4->gradio) (11.0.3)\n",
            "Requirement already satisfied: entrypoints in /usr/local/lib/python3.10/dist-packages (from altair<6.0,>=4.2.0->gradio) (0.4)\n",
            "Requirement already satisfied: jsonschema>=3.0 in /usr/local/lib/python3.10/dist-packages (from altair<6.0,>=4.2.0->gradio) (4.22.0)\n",
            "Requirement already satisfied: toolz in /usr/local/lib/python3.10/dist-packages (from altair<6.0,>=4.2.0->gradio) (0.12.1)\n",
            "Requirement already satisfied: anyio in /usr/local/lib/python3.10/dist-packages (from httpx>=0.24.1->gradio) (3.7.1)\n",
            "Requirement already satisfied: certifi in /usr/local/lib/python3.10/dist-packages (from httpx>=0.24.1->gradio) (2024.2.2)\n",
            "Requirement already satisfied: httpcore==1.* in /usr/local/lib/python3.10/dist-packages (from httpx>=0.24.1->gradio) (1.0.5)\n",
            "Requirement already satisfied: idna in /usr/local/lib/python3.10/dist-packages (from httpx>=0.24.1->gradio) (3.7)\n",
            "Requirement already satisfied: sniffio in /usr/local/lib/python3.10/dist-packages (from httpx>=0.24.1->gradio) (1.3.1)\n",
            "Requirement already satisfied: h11<0.15,>=0.13 in /usr/local/lib/python3.10/dist-packages (from httpcore==1.*->httpx>=0.24.1->gradio) (0.14.0)\n",
            "Requirement already satisfied: filelock in /usr/local/lib/python3.10/dist-packages (from huggingface-hub>=0.19.3->gradio) (3.14.0)\n",
            "Requirement already satisfied: requests in /usr/local/lib/python3.10/dist-packages (from huggingface-hub>=0.19.3->gradio) (2.31.0)\n",
            "Requirement already satisfied: tqdm>=4.42.1 in /usr/local/lib/python3.10/dist-packages (from huggingface-hub>=0.19.3->gradio) (4.66.4)\n",
            "Requirement already satisfied: contourpy>=1.0.1 in /usr/local/lib/python3.10/dist-packages (from matplotlib~=3.0->gradio) (1.2.1)\n",
            "Requirement already satisfied: cycler>=0.10 in /usr/local/lib/python3.10/dist-packages (from matplotlib~=3.0->gradio) (0.12.1)\n",
            "Requirement already satisfied: fonttools>=4.22.0 in /usr/local/lib/python3.10/dist-packages (from matplotlib~=3.0->gradio) (4.51.0)\n",
            "Requirement already satisfied: kiwisolver>=1.0.1 in /usr/local/lib/python3.10/dist-packages (from matplotlib~=3.0->gradio) (1.4.5)\n",
            "Requirement already satisfied: pyparsing>=2.3.1 in /usr/local/lib/python3.10/dist-packages (from matplotlib~=3.0->gradio) (3.1.2)\n",
            "Requirement already satisfied: python-dateutil>=2.7 in /usr/local/lib/python3.10/dist-packages (from matplotlib~=3.0->gradio) (2.9.0.post0)\n",
            "Requirement already satisfied: pytz>=2020.1 in /usr/local/lib/python3.10/dist-packages (from pandas<3.0,>=1.0->gradio) (2024.1)\n",
            "Requirement already satisfied: tzdata>=2022.1 in /usr/local/lib/python3.10/dist-packages (from pandas<3.0,>=1.0->gradio) (2024.1)\n",
            "Requirement already satisfied: annotated-types>=0.4.0 in /usr/local/lib/python3.10/dist-packages (from pydantic>=2.0->gradio) (0.6.0)\n",
            "Requirement already satisfied: pydantic-core==2.18.2 in /usr/local/lib/python3.10/dist-packages (from pydantic>=2.0->gradio) (2.18.2)\n",
            "Requirement already satisfied: click>=8.0.0 in /usr/local/lib/python3.10/dist-packages (from typer<1.0,>=0.12->gradio) (8.1.7)\n",
            "Requirement already satisfied: shellingham>=1.3.0 in /usr/local/lib/python3.10/dist-packages (from typer<1.0,>=0.12->gradio) (1.5.4)\n",
            "Requirement already satisfied: rich>=10.11.0 in /usr/local/lib/python3.10/dist-packages (from typer<1.0,>=0.12->gradio) (13.7.1)\n",
            "Requirement already satisfied: starlette<0.38.0,>=0.37.2 in /usr/local/lib/python3.10/dist-packages (from fastapi->gradio) (0.37.2)\n",
            "Requirement already satisfied: fastapi-cli>=0.0.2 in /usr/local/lib/python3.10/dist-packages (from fastapi->gradio) (0.0.3)\n",
            "Requirement already satisfied: ujson!=4.0.2,!=4.1.0,!=4.2.0,!=4.3.0,!=5.0.0,!=5.1.0,>=4.0.1 in /usr/local/lib/python3.10/dist-packages (from fastapi->gradio) (5.10.0)\n",
            "Requirement already satisfied: email_validator>=2.0.0 in /usr/local/lib/python3.10/dist-packages (from fastapi->gradio) (2.1.1)\n",
            "Requirement already satisfied: dnspython>=2.0.0 in /usr/local/lib/python3.10/dist-packages (from email_validator>=2.0.0->fastapi->gradio) (2.6.1)\n",
            "Requirement already satisfied: attrs>=22.2.0 in /usr/local/lib/python3.10/dist-packages (from jsonschema>=3.0->altair<6.0,>=4.2.0->gradio) (23.2.0)\n",
            "Requirement already satisfied: jsonschema-specifications>=2023.03.6 in /usr/local/lib/python3.10/dist-packages (from jsonschema>=3.0->altair<6.0,>=4.2.0->gradio) (2023.12.1)\n",
            "Requirement already satisfied: referencing>=0.28.4 in /usr/local/lib/python3.10/dist-packages (from jsonschema>=3.0->altair<6.0,>=4.2.0->gradio) (0.35.1)\n",
            "Requirement already satisfied: rpds-py>=0.7.1 in /usr/local/lib/python3.10/dist-packages (from jsonschema>=3.0->altair<6.0,>=4.2.0->gradio) (0.18.1)\n",
            "Requirement already satisfied: six>=1.5 in /usr/local/lib/python3.10/dist-packages (from python-dateutil>=2.7->matplotlib~=3.0->gradio) (1.16.0)\n",
            "Requirement already satisfied: markdown-it-py>=2.2.0 in /usr/local/lib/python3.10/dist-packages (from rich>=10.11.0->typer<1.0,>=0.12->gradio) (3.0.0)\n",
            "Requirement already satisfied: pygments<3.0.0,>=2.13.0 in /usr/local/lib/python3.10/dist-packages (from rich>=10.11.0->typer<1.0,>=0.12->gradio) (2.18.0)\n",
            "Requirement already satisfied: exceptiongroup in /usr/local/lib/python3.10/dist-packages (from anyio->httpx>=0.24.1->gradio) (1.2.1)\n",
            "Requirement already satisfied: httptools>=0.5.0 in /usr/local/lib/python3.10/dist-packages (from uvicorn>=0.14.0->gradio) (0.6.1)\n",
            "Requirement already satisfied: python-dotenv>=0.13 in /usr/local/lib/python3.10/dist-packages (from uvicorn>=0.14.0->gradio) (1.0.1)\n",
            "Requirement already satisfied: uvloop!=0.15.0,!=0.15.1,>=0.14.0 in /usr/local/lib/python3.10/dist-packages (from uvicorn>=0.14.0->gradio) (0.19.0)\n",
            "Requirement already satisfied: watchfiles>=0.13 in /usr/local/lib/python3.10/dist-packages (from uvicorn>=0.14.0->gradio) (0.21.0)\n",
            "Requirement already satisfied: charset-normalizer<4,>=2 in /usr/local/lib/python3.10/dist-packages (from requests->huggingface-hub>=0.19.3->gradio) (3.3.2)\n",
            "Requirement already satisfied: mdurl~=0.1 in /usr/local/lib/python3.10/dist-packages (from markdown-it-py>=2.2.0->rich>=10.11.0->typer<1.0,>=0.12->gradio) (0.1.2)\n"
          ]
        }
      ],
      "source": [
        "# Standard library imports\n",
        "import sys\n",
        "import os\n",
        "import io\n",
        "import traceback\n",
        "\n",
        "# Data handling\n",
        "import pandas as pd\n",
        "import numpy as np\n",
        "\n",
        "# Image processing and computer vision\n",
        "import cv2\n",
        "from PIL import Image\n",
        "import tensorflow as tf\n",
        "from tensorflow.keras.preprocessing import image\n",
        "from tensorflow.keras.preprocessing.image import img_to_array, ImageDataGenerator\n",
        "from tensorflow.keras.models import load_model\n",
        "from tensorflow.keras.utils import to_categorical\n",
        "\n",
        "# For combinations\n",
        "from itertools import combinations\n",
        "\n",
        "# Adjust the Python path to include a specific directory\n",
        "sys.path.append('/content/drive/MyDrive/colabpackages')\n",
        "\n",
        "# YOLO for object detection and Roboflow for dataset handling\n",
        "from ultralytics import YOLO\n",
        "from roboflow import Roboflow\n",
        "\n",
        "# Visualization tools\n",
        "import matplotlib.pyplot as plt\n",
        "\n",
        "# Gradio for creating interfaces\n",
        "!pip install gradio\n",
        "import gradio as gr\n"
      ]
    },
    {
      "cell_type": "markdown",
      "metadata": {
        "id": "tFISNf-LSWlN"
      },
      "source": [
        "#Models"
      ]
    },
    {
      "cell_type": "code",
      "execution_count": null,
      "metadata": {
        "id": "3IF1fS1JUn3o"
      },
      "outputs": [],
      "source": [
        "\n",
        "# Load trained models\n",
        "fill_model = load_model('/content/drive/MyDrive/Models/Characteristics/17052024/fill_model_model.h5')\n",
        "shape_model = load_model('/content/drive/MyDrive/Models/Characteristics/17052024/shape_model_model.h5')\n",
        "\n",
        "# Load YOLO models for shape and card detection\n",
        "shape_detection_model = YOLO('/content/drive/MyDrive/Models/Shape/15052024/best.pt')\n",
        "shape_detection_model.yaml = '/content/drive/MyDrive/Models/Shape/15052024/data.yaml'\n",
        "shape_detection_model.conf = 0.5\n",
        "\n",
        "card_detection_model = YOLO('/content/drive/MyDrive/Models/Card/16042024/best.pt')\n",
        "card_detection_model.yaml= '/content/drive/MyDrive/Models/Card/16042024/data.yaml'\n",
        "card_detection_model.conf = 0.5\n"
      ]
    },
    {
      "cell_type": "markdown",
      "metadata": {
        "id": "uvw2bSzJewG5"
      },
      "source": [
        "#Predictions\n"
      ]
    },
    {
      "cell_type": "code",
      "execution_count": null,
      "metadata": {
        "id": "sZ__hIekR1Zg"
      },
      "outputs": [],
      "source": [
        "def predict_color(shape_image):\n",
        "    \"\"\"\n",
        "    Predict the color of the given shape image using HSV color space.\n",
        "\n",
        "    Parameters:\n",
        "    shape_image (numpy array): The image of the shape.\n",
        "\n",
        "    Returns:\n",
        "    str: The predicted color.\n",
        "    \"\"\"\n",
        "    hsv_image = cv2.cvtColor(shape_image, cv2.COLOR_BGR2HSV)\n",
        "\n",
        "    # Define color ranges in HSV\n",
        "    color_ranges = {\n",
        "        'green': [(40, 50, 50), (80, 255, 255)],\n",
        "        'red': [(120, 50, 50), (160, 255, 255)],\n",
        "        'purple': [(0, 50, 50), (10, 255, 255), (170, 50, 50), (180, 255, 255)]\n",
        "    }\n",
        "\n",
        "    color_counts = {}\n",
        "    for color, ranges in color_ranges.items():\n",
        "        if color == 'purple':\n",
        "            lower1, upper1, lower2, upper2 = ranges\n",
        "            mask1 = cv2.inRange(hsv_image, np.array(lower1), np.array(upper1))\n",
        "            mask2 = cv2.inRange(hsv_image, np.array(lower2), np.array(upper2))\n",
        "            mask = cv2.bitwise_or(mask1, mask2)\n",
        "        else:\n",
        "            lower, upper = ranges\n",
        "            mask = cv2.inRange(hsv_image, np.array(lower), np.array(upper))\n",
        "        color_counts[color] = cv2.countNonZero(mask)\n",
        "\n",
        "    predicted_color = max(color_counts, key=color_counts.get)\n",
        "    return predicted_color\n"
      ]
    },
    {
      "cell_type": "code",
      "execution_count": null,
      "metadata": {
        "id": "4fEtB5CyR2sU"
      },
      "outputs": [],
      "source": [
        "def detect_cards(board_image, card_detection_model):\n",
        "    \"\"\"\n",
        "    Detect cards on the board using the card detection model.\n",
        "\n",
        "    Parameters:\n",
        "    board_image (numpy array): The image of the board.\n",
        "    card_detection_model (YOLO): The YOLO model for card detection.\n",
        "\n",
        "    Returns:\n",
        "    list: A list of tuples containing card images and their bounding boxes.\n",
        "    \"\"\"\n",
        "    try:\n",
        "        card_results = card_detection_model(board_image)\n",
        "        card_boxes = card_results[0].boxes.xyxy.cpu().numpy().astype(int)\n",
        "\n",
        "        cards = []\n",
        "        for box in card_boxes:\n",
        "            x1, y1, x2, y2 = box\n",
        "            card_image = board_image[y1:y2, x1:x2]\n",
        "            cards.append((card_image, box))\n",
        "\n",
        "        return cards\n",
        "    except Exception as e:\n",
        "        print(f\"Error in detect_cards: {str(e)}\")\n",
        "        return []\n"
      ]
    },
    {
      "cell_type": "code",
      "execution_count": null,
      "metadata": {
        "id": "wGTv9Dw198uK"
      },
      "outputs": [],
      "source": [
        "def predict_card_features(card_image, shape_detection_model, fill_model, shape_model):\n",
        "    \"\"\"\n",
        "    Predict the features of the card (color, fill, shape) using the provided models.\n",
        "\n",
        "    Parameters:\n",
        "    card_image (numpy array): The image of the card.\n",
        "    shape_detection_model (YOLO): The YOLO model for shape detection.\n",
        "    fill_model (Model): The Keras model for fill prediction.\n",
        "    shape_model (Model): The Keras model for shape prediction.\n",
        "\n",
        "    Returns:\n",
        "    dict: A dictionary containing the predicted card characteristics.\n",
        "    \"\"\"\n",
        "    try:\n",
        "        shape_results = shape_detection_model(card_image)\n",
        "        card_height, card_width = card_image.shape[:2]\n",
        "        card_area = card_width * card_height\n",
        "\n",
        "        filtered_boxes = []\n",
        "        for box in shape_results[0].boxes.xyxy.cpu().numpy():\n",
        "            x1, y1, x2, y2 = box.astype(int)\n",
        "            shape_width = x2 - x1\n",
        "            shape_height = y2 - y1\n",
        "            shape_area = shape_width * shape_height\n",
        "\n",
        "            if shape_area > 0.03 * card_area:\n",
        "                filtered_boxes.append(box)\n",
        "\n",
        "        count = min(len(filtered_boxes), 3)\n",
        "\n",
        "        if count > 0:\n",
        "            color_labels = []\n",
        "            fill_labels = []\n",
        "            shape_labels = []\n",
        "\n",
        "            for shape_box in filtered_boxes:\n",
        "                shape_box = shape_box.astype(int)\n",
        "                shape_image = card_image[shape_box[1]:shape_box[3], shape_box[0]:shape_box[2]]\n",
        "\n",
        "                fill_input_shape = fill_model.input_shape[1:3]\n",
        "                shape_input_shape = shape_model.input_shape[1:3]\n",
        "\n",
        "                fill_shape_image = cv2.resize(shape_image, fill_input_shape) / 255.0\n",
        "                shape_shape_image = cv2.resize(shape_image, shape_input_shape) / 255.0\n",
        "\n",
        "                fill_pred = fill_model.predict(np.expand_dims(fill_shape_image, axis=0))\n",
        "                shape_pred = shape_model.predict(np.expand_dims(shape_shape_image, axis=0))\n",
        "\n",
        "                color_labels.append(predict_color(shape_image))\n",
        "                fill_labels.append(['empty', 'full', 'striped'][np.argmax(fill_pred)])\n",
        "                shape_labels.append(['diamond', 'oval', 'squiggle'][np.argmax(shape_pred)])\n",
        "\n",
        "            color_label = max(set(color_labels), key=color_labels.count)\n",
        "            fill_label = max(set(fill_labels), key=fill_labels.count)\n",
        "            shape_label = max(set(shape_labels), key=shape_labels.count)\n",
        "        else:\n",
        "            color_label = fill_label = shape_label = 'unknown'\n",
        "\n",
        "        card_prediction = {\n",
        "            'count': count,\n",
        "            'color': color_label,\n",
        "            'fill': fill_label,\n",
        "            'shape': shape_label\n",
        "        }\n",
        "\n",
        "        return card_prediction\n",
        "    except Exception as e:\n",
        "        print(f\"Error in predict_card_features: {str(e)}\")\n",
        "        return {'count': 'unknown', 'color': 'unknown', 'fill': 'unknown', 'shape': 'unknown'}\n"
      ]
    },
    {
      "cell_type": "code",
      "execution_count": null,
      "metadata": {
        "id": "WLuK8mSWnZZE"
      },
      "outputs": [],
      "source": [
        "def classify_cards(board_image):\n",
        "    \"\"\"\n",
        "    Classify the cards on the board image.\n",
        "\n",
        "    Parameters:\n",
        "    board_image (Image): The image of the board.\n",
        "\n",
        "    Returns:\n",
        "    DataFrame: A pandas DataFrame containing the card data.\n",
        "    \"\"\"\n",
        "    try:\n",
        "        board_image_cv = cv2.cvtColor(np.array(board_image), cv2.COLOR_RGB2BGR)\n",
        "        cards = detect_cards(board_image_cv, card_detection_model)\n",
        "        card_data = []\n",
        "\n",
        "        for card_image, box in cards:\n",
        "            card_features = predict_card_features(card_image, shape_detection_model, fill_model, shape_model)\n",
        "            card_data.append({\n",
        "                \"Count\": card_features['count'],\n",
        "                \"Color\": card_features['color'],\n",
        "                \"Fill\": card_features['fill'],\n",
        "                \"Shape\": card_features['shape'],\n",
        "                \"Coordinates\": f\"{box[0]}, {box[1]}, {box[2]}, {box[3]}\"\n",
        "            })\n",
        "\n",
        "        return pd.DataFrame(card_data)\n",
        "    except Exception as e:\n",
        "        print(f\"Error in classify_cards: {str(e)}\")\n",
        "        return pd.DataFrame()\n"
      ]
    },
    {
      "cell_type": "code",
      "execution_count": null,
      "metadata": {
        "id": "huiTokfwGGHI"
      },
      "outputs": [],
      "source": [
        "def is_set(cards):\n",
        "    \"\"\"\n",
        "    Check if the given cards form a valid set.\n",
        "\n",
        "    Parameters:\n",
        "    cards (list): List of cards to be checked.\n",
        "\n",
        "    Returns:\n",
        "    bool: True if the cards form a valid set, otherwise False.\n",
        "    \"\"\"\n",
        "    for card in cards:\n",
        "        if 'unknown' in card.tolist():\n",
        "            return False\n",
        "\n",
        "    for feature in ['Count', 'Color', 'Fill', 'Shape']:\n",
        "        if len(set(card[feature] for card in cards)) not in [1, 3]:\n",
        "            return False\n",
        "    return True\n"
      ]
    },
    {
      "cell_type": "code",
      "execution_count": null,
      "metadata": {
        "id": "T87u6njVHMDA"
      },
      "outputs": [],
      "source": [
        "def find_sets(card_df):\n",
        "    \"\"\"\n",
        "    Find all possible sets in the given DataFrame of card data.\n",
        "\n",
        "    Parameters:\n",
        "    card_df (DataFrame): DataFrame containing the card data.\n",
        "\n",
        "    Returns:\n",
        "    list: A list of sets found.\n",
        "    \"\"\"\n",
        "    sets_found = []\n",
        "    card_combinations = combinations(card_df.iterrows(), 3)\n",
        "\n",
        "    for combo in card_combinations:\n",
        "        cards = [card[1] for card in combo]\n",
        "        card_indices = [card[0] for card in combo]\n",
        "\n",
        "        if is_set(cards):\n",
        "            set_info = {\n",
        "                'set_indices': card_indices,\n",
        "                'cards': [{feature: card[feature] for feature in ['Count', 'Color', 'Fill', 'Shape', 'Coordinates']} for card in cards]\n",
        "            }\n",
        "            sets_found.append(set_info)\n",
        "\n",
        "    # Check for sets with shared cards\n",
        "    sets_to_remove = []\n",
        "    for i in range(len(sets_found)):\n",
        "        for j in range(i + 1, len(sets_found)):\n",
        "            shared_cards = set(sets_found[i]['set_indices']) & set(sets_found[j]['set_indices'])\n",
        "            if len(shared_cards) > 1:\n",
        "                sets_to_remove.append(sets_found[j])\n",
        "\n",
        "    # Remove sets with more than one shared card\n",
        "    sets_found = [set_info for set_info in sets_found if set_info not in sets_to_remove]\n",
        "\n",
        "    return sets_found\n"
      ]
    },
    {
      "cell_type": "code",
      "execution_count": null,
      "metadata": {
        "id": "Cey5laciHO58"
      },
      "outputs": [],
      "source": [
        "def classify_and_find_sets(board_image):\n",
        "    \"\"\"\n",
        "    Classify cards on the board image and find all possible sets.\n",
        "\n",
        "    Parameters:\n",
        "    board_image (Image): The image of the board.\n",
        "\n",
        "    Returns:\n",
        "    list: A list of sets found.\n",
        "    \"\"\"\n",
        "    card_df = classify_cards(board_image)\n",
        "    sets_found = find_sets(card_df)\n",
        "    return sets_found\n"
      ]
    },
    {
      "cell_type": "code",
      "execution_count": null,
      "metadata": {
        "id": "AESorsa_GH6j"
      },
      "outputs": [],
      "source": [
        "def draw_sets(board_image, sets_info):\n",
        "    \"\"\"\n",
        "    Draw bounding boxes around detected sets on the board image.\n",
        "\n",
        "    Parameters:\n",
        "    board_image (numpy array): The image of the board.\n",
        "    sets_info (list): A list of sets found.\n",
        "\n",
        "    Returns:\n",
        "    numpy array: The board image with bounding boxes drawn around sets.\n",
        "    \"\"\"\n",
        "    colors = [(255, 0, 0), (0, 255, 0), (0, 0, 255), (255, 255, 0), (255, 0, 255), (0, 255, 255)]\n",
        "    image_height, image_width = board_image.shape[:2]\n",
        "\n",
        "    # Scaling factors based on the image size\n",
        "    scale_factor = min(image_width, image_height) / 500\n",
        "    base_thickness = int(2 * scale_factor)\n",
        "    base_expansion = int(2 * scale_factor)  # Reduced base_expansion\n",
        "    font_scale = 0.5 * scale_factor\n",
        "    font_thickness = int(1 * scale_factor)\n",
        "\n",
        "    for index, set_info in enumerate(sets_info):\n",
        "        color = colors[index % len(colors)]\n",
        "        thickness = base_thickness + int(0.5 * index)\n",
        "        expansion = base_expansion + int(5 * index)  # Increased expansion factor\n",
        "\n",
        "        for card in set_info['cards']:\n",
        "            coordinates = list(map(int, card['Coordinates'].split(',')))\n",
        "            x1, y1, x2, y2 = coordinates\n",
        "\n",
        "            x1_expanded = max(0, x1 - expansion)\n",
        "            y1_expanded = max(0, y1 - expansion)\n",
        "            x2_expanded = min(board_image.shape[1], x2 + expansion)\n",
        "            y2_expanded = min(board_image.shape[0], y2 + expansion)\n",
        "\n",
        "            cv2.rectangle(board_image, (x1_expanded, y1_expanded), (x2_expanded, y2_expanded), color, thickness)\n",
        "\n",
        "            if card == set_info['cards'][0]:\n",
        "                cv2.putText(board_image, f\"Set {index + 1}\", (x1_expanded, y1_expanded - int(10 * scale_factor)),\n",
        "                            cv2.FONT_HERSHEY_SIMPLEX, font_scale, color, font_thickness)\n",
        "\n",
        "    return board_image"
      ]
    },
    {
      "cell_type": "code",
      "execution_count": null,
      "metadata": {
        "id": "RwWXx3d0R6fv"
      },
      "outputs": [],
      "source": [
        "def detect_and_display_sets_interface(input_image):\n",
        "    \"\"\"\n",
        "    Detect and display sets on the input image using the Gradio interface.\n",
        "\n",
        "    Parameters:\n",
        "    input_image (Image): The input image of the board.\n",
        "\n",
        "    Returns:\n",
        "    tuple: The image with sets highlighted and a success message.\n",
        "    \"\"\"\n",
        "    try:\n",
        "        input_image_cv = cv2.cvtColor(np.array(input_image), cv2.COLOR_RGB2BGR)\n",
        "        sets_info = classify_and_find_sets(input_image_cv)\n",
        "        board_image_with_sets = draw_sets(input_image_cv, sets_info)\n",
        "\n",
        "        return Image.fromarray(cv2.cvtColor(board_image_with_sets, cv2.COLOR_BGR2RGB))\n",
        "\n",
        "    except Exception as e:\n",
        "        error_details = \"Error: \" + str(e) + \"\\n\" + traceback.format_exc()\n",
        "        return Image.fromarray(np.zeros((100, 100, 3), dtype=np.uint8))"
      ]
    },
    {
      "cell_type": "markdown",
      "metadata": {
        "id": "YvpXZf2tdshZ"
      },
      "source": [
        "#Gradio"
      ]
    },
    {
      "cell_type": "code",
      "execution_count": null,
      "metadata": {
        "id": "WlC12QGBS1V1",
        "colab": {
          "base_uri": "https://localhost:8080/"
        },
        "outputId": "34bbb5da-e508-4ba3-dd9f-a839dcbe221a"
      },
      "outputs": [
        {
          "output_type": "stream",
          "name": "stdout",
          "text": [
            "Setting queue=True in a Colab notebook requires sharing enabled. Setting `share=True` (you can turn this off by setting `share=False` in `launch()` explicitly).\n",
            "\n",
            "Colab notebook detected. To show errors in colab notebook, set debug=True in launch()\n",
            "Running on public URL: https://647dab153716d8b611.gradio.live\n",
            "\n",
            "This share link expires in 72 hours. For free permanent hosting and GPU upgrades, run `gradio deploy` from Terminal to deploy to Spaces (https://huggingface.co/spaces)\n"
          ]
        },
        {
          "output_type": "display_data",
          "data": {
            "text/plain": [
              "<IPython.core.display.HTML object>"
            ],
            "text/html": [
              "<div><iframe src=\"https://647dab153716d8b611.gradio.live\" width=\"100%\" height=\"500\" allow=\"autoplay; camera; microphone; clipboard-read; clipboard-write;\" frameborder=\"0\" allowfullscreen></iframe></div>"
            ]
          },
          "metadata": {}
        },
        {
          "output_type": "execute_result",
          "data": {
            "text/plain": []
          },
          "metadata": {},
          "execution_count": 13
        }
      ],
      "source": [
        "# Gradio\n",
        "\n",
        "# Create the Gradio interface\n",
        "iface = gr.Interface(\n",
        "    fn=detect_and_display_sets_interface,\n",
        "    inputs=gr.components.Image(type=\"pil\"),\n",
        "    outputs=gr.components.Image(type=\"pil\"),\n",
        "    title=\"Set Game Detector\",\n",
        "    description=\"Upload an image of a Set game board, and if there are sets found in the image the interface will highlight them\"\n",
        ")\n",
        "\n",
        "# Launch the interface\n",
        "iface.launch()\n"
      ]
    },
    {
      "cell_type": "code",
      "execution_count": null,
      "metadata": {
        "colab": {
          "base_uri": "https://localhost:8080/"
        },
        "id": "-PLr-6ijS2NU",
        "outputId": "ba4f02ce-a00f-4e9f-93f0-4b9fedc1db43"
      },
      "outputs": [
        {
          "output_type": "stream",
          "name": "stdout",
          "text": [
            "Rerunning server... use `close()` to stop if you need to change `launch()` parameters.\n",
            "----\n",
            "Setting queue=True in a Colab notebook requires sharing enabled. Setting `share=True` (you can turn this off by setting `share=False` in `launch()` explicitly).\n",
            "\n",
            "Colab notebook detected. To show errors in colab notebook, set debug=True in launch()\n",
            "Running on public URL: https://647dab153716d8b611.gradio.live\n",
            "\n",
            "This share link expires in 72 hours. For free permanent hosting and GPU upgrades, run `gradio deploy` from Terminal to deploy to Spaces (https://huggingface.co/spaces)\n"
          ]
        },
        {
          "output_type": "display_data",
          "data": {
            "text/plain": [
              "<IPython.core.display.HTML object>"
            ],
            "text/html": [
              "<div><iframe src=\"https://647dab153716d8b611.gradio.live\" width=\"100%\" height=\"500\" allow=\"autoplay; camera; microphone; clipboard-read; clipboard-write;\" frameborder=\"0\" allowfullscreen></iframe></div>"
            ]
          },
          "metadata": {}
        },
        {
          "output_type": "execute_result",
          "data": {
            "text/plain": []
          },
          "metadata": {},
          "execution_count": 14
        }
      ],
      "source": [
        "# Launch the interface\n",
        "iface.launch()"
      ]
    }
  ],
  "metadata": {
    "accelerator": "TPU",
    "colab": {
      "collapsed_sections": [
        "93RMa6RSZse_",
        "tFISNf-LSWlN"
      ],
      "gpuType": "V28",
      "machine_shape": "hm",
      "provenance": []
    },
    "kernelspec": {
      "display_name": "Python 3",
      "name": "python3"
    },
    "language_info": {
      "name": "python"
    }
  },
  "nbformat": 4,
  "nbformat_minor": 0
}